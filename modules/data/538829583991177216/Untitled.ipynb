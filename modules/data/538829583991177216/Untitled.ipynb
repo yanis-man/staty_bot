{
 "cells": [
  {
   "cell_type": "code",
   "execution_count": 48,
   "metadata": {},
   "outputs": [
    {
     "name": "stderr",
     "output_type": "stream",
     "text": [
      "<ipython-input-48-49f25acfa1cd>:25: MatplotlibDeprecationWarning: Adding an axes using the same arguments as a previous axes currently reuses the earlier instance.  In a future version, a new instance will always be created and returned.  Meanwhile, this warning can be suppressed, and the future behavior ensured, by passing a unique label to each axes instance.\n",
      "  ax = plt.axes()\n"
     ]
    },
    {
     "data": {
      "image/png": "[encoded data removed]",
      "text/plain": [
       "<Figure size 432x288 with 1 Axes>"
      ]
     },
     "metadata": {
      "needs_background": "dark"
     },
     "output_type": "display_data"
    }
   ],
   "source": [
    "import matplotlib.pyplot as plt\n",
    "import csv\n",
    "\n",
    "csv_file = open(\"messages.csv\", \"r\", newline=\"\", encoding=\"utf-8\")\n",
    "csv_reader = csv.reader(csv_file)\n",
    "\n",
    "hours_c = {}\n",
    "h = []\n",
    "\n",
    "for line in csv_reader:\n",
    "    hours = line[2].split(\"/\")[1].split(\":\")[0] + \"h\"\n",
    "    if hours not in hours_c: hours_c[hours] = 0 \n",
    "    hours_c[hours] += 1\n",
    "    \n",
    "csv_file.close()\n",
    "hours = []\n",
    "message_count = []    \n",
    "message_count[:] = hours_c.values()\n",
    "hours[:] = hours_c.keys()\n",
    "\n",
    "plt.bar(hours, message_count, color='royalblue', alpha=0.7)\n",
    "\n",
    "plt.grid(True, linewidth=0.5, color='royalblue', linestyle='-', alpha=0.2)\n",
    "\n",
    "ax = plt.axes()\n",
    "\n",
    "ax.set(facecolor = \"grey\")\n",
    "ax.patch.set_alpha(0)\n",
    "\n",
    "ax.xaxis.set_ticks_position('none') \n",
    "ax.yaxis.set_ticks_position('none') \n",
    "\n",
    "ax.spines['bottom'].set_alpha(0)\n",
    "ax.spines['top'].set_alpha(0)\n",
    "ax.spines['left'].set_alpha(0)\n",
    "ax.spines['right'].set_alpha(0)\n",
    "ax.xaxis.label.set_color('white')\n",
    "\n",
    "ax.tick_params(axis='x', colors='white')\n",
    "ax.tick_params(axis='y', colors='white')\n",
    "\n",
    "\n",
    "plt.savefig(\"charts/moh-1_day.png\", transparent=True, dpi=300)"
   ]
  }
 ],
 "metadata": {
  "kernelspec": {
   "display_name": "Python 3",
   "language": "python",
   "name": "python3"
  },
  "language_info": {
   "codemirror_mode": {
    "name": "ipython",
    "version": 3
   },
   "file_extension": ".py",
   "mimetype": "text/x-python",
   "name": "python",
   "nbconvert_exporter": "python",
   "pygments_lexer": "ipython3",
   "version": "3.8.3"
  }
 },
 "nbformat": 4,
 "nbformat_minor": 4
}
